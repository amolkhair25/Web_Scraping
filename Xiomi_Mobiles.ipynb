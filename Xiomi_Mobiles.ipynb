{
 "cells": [
  {
   "cell_type": "code",
   "execution_count": 2,
   "id": "6c2614c7-9c26-43ff-84fe-7431d27b0dbd",
   "metadata": {},
   "outputs": [],
   "source": [
    "from bs4 import BeautifulSoup\n",
    "import requests\n",
    "import pandas as pd"
   ]
  },
  {
   "cell_type": "code",
   "execution_count": 3,
   "id": "34ebda22-a1bd-4352-9d30-d0a70f0d4215",
   "metadata": {},
   "outputs": [
    {
     "data": {
      "text/plain": [
       "<div class=\"sm-product has-tag has-features has-actions\" data-way=\"\"><div class=\"sm-img-wrap\"><img alt=\"Xiaomi Redmi 12 5G\" class=\"sm-img\" src=\"https://cdn1.smartprix.com/rx-iO5TmbiB9-w280-h280/xiaomi-redmi-12-5g.jpg\"/></div><a class=\"name clamp-2\" data-target=\"_blank\" data-way=\"\" href=\"/mobiles/xiaomi-redmi-12-5g-ppd1jp20x0qb\"><h2>Xiaomi Redmi 12 5G</h2></a><span class=\"price\">₹11,499</span><span class=\"sm-pdrop\">7%</span><!-- --><div class=\"rating\"><span class=\"sm-rating\" style=\"--rating:4.55;\"><!-- --><i></i></span><!-- --></div><ul class=\"sm-feat specs\"><!--[--><li class=\"\">Dual Sim, 3G, 4G, 5G, VoLTE, Wi-Fi, IR Blaster</li><li class=\"\">Snapdragon 4 Gen2, Octa Core, 2.2 GHz Processor</li><li class=\"\">4 GB RAM, 128 GB inbuilt</li><li class=\"\">5000 mAh Battery with 18W Fast Charging</li><li class=\"\">6.79 inches, 1080 x 2460 px, 90 Hz Display with Punch Hole</li><li class=\"\">50 MP + 2 MP Dual Rear &amp; 8 MP Front Camera</li><li class=\"\">Memory Card (Hybrid), upto 1 TB</li><li class=\"\">Android v13</li><!--]--></ul><div class=\"tags\"><div class=\"score rank-2-bg\"><b>75</b><small>Spec Score</small></div><!-- --></div><div class=\"sm-product-actions\"><!--[--><button><svg class=\"icon\" style=\"--s:20px;fill:dodgerblue;\" viewbox=\"0 0 24 24\"><path d=\"M17,13H13V17H11V13H7V11H11V7H13V11H17M12,2A10,10 0 0,0 2,12A10,10 0 0,0 12,22A10,10 0 0,0 22,12A10,10 0 0,0 12,2Z\"></path></svg><small>Compare</small></button><button class=\"like\"><svg class=\"icon\" style=\"--s:20px;fill:hotpink;\" viewbox=\"0 0 24 24\"><path d=\"M12.1,18.55L12,18.65L11.89,18.55C7.14,14.24 4,11.39 4,8.5C4,6.5 5.5,5 7.5,5C9.04,5 10.54,6 11.07,7.36H12.93C13.46,6 14.96,5 16.5,5C18.5,5 20,6.5 20,8.5C20,11.39 16.86,14.24 12.1,18.55M16.5,3C14.76,3 13.09,3.81 12,5.08C10.91,3.81 9.24,3 7.5,3C4.42,3 2,5.41 2,8.5C2,12.27 5.4,15.36 10.55,20.03L12,21.35L13.45,20.03C18.6,15.36 22,12.27 22,8.5C22,5.41 19.58,3 16.5,3Z\"></path></svg><small>Like</small></button><a class=\"store\" href=\"https://l.smartprix.com/l?k=12b5Bb3Kfn4GNpduVGlCvbz7FhrhAA3snrh7hBnYc5oc4WcHW6c3rnc5oXW6cBrFUaTc6TCach-hDoG4bHGhrhhaFhrhrhhacBrWahrhrBi5QBoPDPN6hrFB51oNDVXeyqXZg\" rel=\"nofollow noopener\" target=\"_blank\"><img alt=\"croma\" class=\"sm-img\" loading=\"lazy\" src=\"https://cdn1.smartprix.com/rx-i4vfi1umq-w32-h32/croma.jpg\"/><small>Buy →</small></a><!--]--></div><!-- --></div>"
      ]
     },
     "execution_count": 3,
     "metadata": {},
     "output_type": "execute_result"
    }
   ],
   "source": [
    "url=\"https://www.smartprix.com/mobiles/xiaomi-brand\"\n",
    "headers = {\"User-Agent\":\"Mozilla/5.0 (Macintosh; Intel Mac OS X 10_15_4) AppleWebKit/537.36 (KHTML, like Gecko) Chrome/117.0.5938.150 Safari/537.36\"}\n",
    "page=requests.get(url, headers=headers)\n",
    "soup=BeautifulSoup(page.content,'lxml')\n",
    "mobiles=soup.find_all(class_=\"sm-product has-tag has-features has-actions\")\n",
    "mobile=mobiles[0]\n",
    "mobile"
   ]
  },
  {
   "cell_type": "code",
   "execution_count": 4,
   "id": "0a64ddb3-dd80-47a5-9da5-0cb7cb953f4e",
   "metadata": {},
   "outputs": [
    {
     "data": {
      "text/plain": [
       "'Xiaomi Redmi 12 5G'"
      ]
     },
     "execution_count": 4,
     "metadata": {},
     "output_type": "execute_result"
    }
   ],
   "source": [
    "mobn=mobile.find(class_=\"name clamp-2\").get_text()\n",
    "mobn"
   ]
  },
  {
   "cell_type": "code",
   "execution_count": 5,
   "id": "00ed4c9b-45b3-482e-9382-2b0752d0b510",
   "metadata": {},
   "outputs": [
    {
     "data": {
      "text/plain": [
       "'₹11,499'"
      ]
     },
     "execution_count": 5,
     "metadata": {},
     "output_type": "execute_result"
    }
   ],
   "source": [
    "pr=mobile.find(class_=\"price\").get_text()\n",
    "pr"
   ]
  },
  {
   "cell_type": "code",
   "execution_count": 16,
   "id": "1b0073f6-b744-4da7-bd83-878b2c8ff830",
   "metadata": {},
   "outputs": [
    {
     "data": {
      "text/plain": [
       "'7%'"
      ]
     },
     "execution_count": 16,
     "metadata": {},
     "output_type": "execute_result"
    }
   ],
   "source": [
    "disc=mobile.find(class_=\"sm-pdrop\").get_text()\n",
    "disc"
   ]
  },
  {
   "cell_type": "code",
   "execution_count": 7,
   "id": "e1e2110b-51d6-466e-b64e-d563a88033bd",
   "metadata": {},
   "outputs": [
    {
     "data": {
      "text/plain": [
       "'4.55'"
      ]
     },
     "execution_count": 7,
     "metadata": {},
     "output_type": "execute_result"
    }
   ],
   "source": [
    "rat=mobile.find(class_=\"sm-rating\")\n",
    "rat.attrs['style'].replace(\"--rating:\",\"\").replace(\";\",\"\")\n"
   ]
  },
  {
   "cell_type": "code",
   "execution_count": 8,
   "id": "0b4b30ac-892d-47e1-8875-81a4a42b87be",
   "metadata": {},
   "outputs": [
    {
     "data": {
      "text/plain": [
       "'Dual Sim, 3G, 4G, 5G, VoLTE, Wi-Fi, IR BlasterSnapdragon 4 Gen2, Octa Core, 2.2\\u2009GHz Processor4\\u2009GB RAM, 128\\u2009GB inbuilt5000\\u2009mAh Battery with 18W Fast Charging6.79 inches, 1080\\u2009x\\u20092460\\u2009px, 90 Hz Display with Punch Hole50\\u2009MP + 2\\u2009MP Dual Rear & 8\\u2009MP Front CameraMemory Card (Hybrid), upto 1\\u2009TBAndroid v13'"
      ]
     },
     "execution_count": 8,
     "metadata": {},
     "output_type": "execute_result"
    }
   ],
   "source": [
    "desc=mobile.find(class_=\"sm-feat specs\").get_text()\n",
    "desc"
   ]
  },
  {
   "cell_type": "code",
   "execution_count": 33,
   "id": "99a73088-01a7-4c52-a9fd-fcc5ba83fddc",
   "metadata": {},
   "outputs": [
    {
     "data": {
      "text/plain": [
       "(20, 20, 20, 20, 20)"
      ]
     },
     "execution_count": 33,
     "metadata": {},
     "output_type": "execute_result"
    }
   ],
   "source": [
    "mobilename,price,discount,rating,desc=[],[],[],[],[]\n",
    "\n",
    "url=\"https://www.smartprix.com/mobiles/xiaomi-brand\"\n",
    "headers = {\"User-Agent\":\"Mozilla/5.0 (Macintosh; Intel Mac OS X 10_15_4) AppleWebKit/537.36 (KHTML, like Gecko) Chrome/117.0.5938.150 Safari/537.36\"}\n",
    "page=requests.get(url, headers=headers)\n",
    "soup=BeautifulSoup(page.content,'lxml')\n",
    "mobiles=soup.find_all(class_=\"sm-product has-tag has-features has-actions\")\n",
    "\n",
    "for i in mobiles:\n",
    "    mobilename.append(i.find(class_=\"name clamp-2\").get_text())\n",
    "    price.append(i.find(class_=\"price\").get_text())\n",
    "    if i.find(class_=\"sm-pdrop\"):\n",
    "        discount.append(i.find(class_=\"sm-pdrop\").get_text())\n",
    "    else:\n",
    "        discount.append(None)\n",
    "    rat=i.find(class_=\"sm-rating\")\n",
    "    rating.append(rat.attrs['style'].replace(\"--rating:\",\"\").replace(\";\",\"\"))\n",
    "    desc.append(i.find(class_=\"sm-feat specs\").get_text())\n",
    "len(mobilename),len(price),len(discount),len(rating),len(desc),\n"
   ]
  },
  {
   "cell_type": "code",
   "execution_count": 32,
   "id": "e03d182f-6a55-4090-971f-fad55d275bdd",
   "metadata": {},
   "outputs": [
    {
     "data": {
      "text/html": [
       "<div>\n",
       "<style scoped>\n",
       "    .dataframe tbody tr th:only-of-type {\n",
       "        vertical-align: middle;\n",
       "    }\n",
       "\n",
       "    .dataframe tbody tr th {\n",
       "        vertical-align: top;\n",
       "    }\n",
       "\n",
       "    .dataframe thead th {\n",
       "        text-align: right;\n",
       "    }\n",
       "</style>\n",
       "<table border=\"1\" class=\"dataframe\">\n",
       "  <thead>\n",
       "    <tr style=\"text-align: right;\">\n",
       "      <th></th>\n",
       "      <th>Mobile Name</th>\n",
       "      <th>Price</th>\n",
       "      <th>Discount</th>\n",
       "      <th>Ratings</th>\n",
       "      <th>Desc</th>\n",
       "    </tr>\n",
       "  </thead>\n",
       "  <tbody>\n",
       "    <tr>\n",
       "      <th>0</th>\n",
       "      <td>Xiaomi Redmi 12 5G</td>\n",
       "      <td>₹11,499</td>\n",
       "      <td>7%</td>\n",
       "      <td>4.55</td>\n",
       "      <td>Dual Sim, 3G, 4G, 5G, VoLTE, Wi-Fi, IR Blaster...</td>\n",
       "    </tr>\n",
       "    <tr>\n",
       "      <th>1</th>\n",
       "      <td>Xiaomi Redmi Note 13 Pro Plus</td>\n",
       "      <td>₹21,990</td>\n",
       "      <td>None</td>\n",
       "      <td>4.35</td>\n",
       "      <td>Dual Sim, 3G, 4G, 5G, VoLTE, Wi-Fi, NFC, IR Bl...</td>\n",
       "    </tr>\n",
       "    <tr>\n",
       "      <th>2</th>\n",
       "      <td>Xiaomi Redmi 12 5G (6GB RAM + 128GB)</td>\n",
       "      <td>₹12,999</td>\n",
       "      <td>4%</td>\n",
       "      <td>4.75</td>\n",
       "      <td>Dual Sim, 3G, 4G, 5G, VoLTE, Wi-Fi, IR Blaster...</td>\n",
       "    </tr>\n",
       "    <tr>\n",
       "      <th>3</th>\n",
       "      <td>Xiaomi Redmi 12 5G (8GB RAM + 256GB)</td>\n",
       "      <td>₹14,999</td>\n",
       "      <td>6%</td>\n",
       "      <td>4.6</td>\n",
       "      <td>Dual Sim, 3G, 4G, 5G, VoLTE, Wi-Fi, IR Blaster...</td>\n",
       "    </tr>\n",
       "    <tr>\n",
       "      <th>4</th>\n",
       "      <td>Xiaomi Redmi Note 13 Pro Max 5G</td>\n",
       "      <td>₹20,499</td>\n",
       "      <td>None</td>\n",
       "      <td>4</td>\n",
       "      <td>Dual Sim, 3G, 4G, 5G, VoLTE, Wi-Fi, IR Blaster...</td>\n",
       "    </tr>\n",
       "    <tr>\n",
       "      <th>5</th>\n",
       "      <td>Xiaomi Redmi Note 13 Pro 5G</td>\n",
       "      <td>₹15,990</td>\n",
       "      <td>None</td>\n",
       "      <td>4.1</td>\n",
       "      <td>Dual Sim, 3G, 4G, 5G, VoLTE, Wi-Fi, NFC, IR Bl...</td>\n",
       "    </tr>\n",
       "    <tr>\n",
       "      <th>6</th>\n",
       "      <td>Xiaomi Redmi Note 12 Pro 5G</td>\n",
       "      <td>₹20,999</td>\n",
       "      <td>None</td>\n",
       "      <td>4.75</td>\n",
       "      <td>Dual Sim, 3G, 4G, 5G, VoLTE, Wi-Fi, IR Blaster...</td>\n",
       "    </tr>\n",
       "    <tr>\n",
       "      <th>7</th>\n",
       "      <td>Xiaomi Redmi 12 4G</td>\n",
       "      <td>₹8,999</td>\n",
       "      <td>10%</td>\n",
       "      <td>4.5</td>\n",
       "      <td>Dual Sim, 3G, 4G, VoLTE, Wi-Fi, IR BlasterHeli...</td>\n",
       "    </tr>\n",
       "    <tr>\n",
       "      <th>8</th>\n",
       "      <td>Xiaomi Redmi Note 12 5G</td>\n",
       "      <td>₹15,998</td>\n",
       "      <td>5%</td>\n",
       "      <td>3.9</td>\n",
       "      <td>Dual Sim, 3G, 4G, 5G, VoLTE, Wi-Fi, IR Blaster...</td>\n",
       "    </tr>\n",
       "    <tr>\n",
       "      <th>9</th>\n",
       "      <td>Xiaomi Redmi Note 13</td>\n",
       "      <td>₹12,990</td>\n",
       "      <td>None</td>\n",
       "      <td>4.5</td>\n",
       "      <td>Dual Sim, 3G, 4G, 5G, VoLTE, Vo5G, Wi-Fi, IR B...</td>\n",
       "    </tr>\n",
       "    <tr>\n",
       "      <th>10</th>\n",
       "      <td>Xiaomi Redmi 12C</td>\n",
       "      <td>₹6,999</td>\n",
       "      <td>14%</td>\n",
       "      <td>4.7</td>\n",
       "      <td>Dual Sim, 3G, 4G, VoLTE, Wi-FiHelio  G85, Octa...</td>\n",
       "    </tr>\n",
       "    <tr>\n",
       "      <th>11</th>\n",
       "      <td>Xiaomi Redmi Note 14 Pro Max</td>\n",
       "      <td>₹29,990</td>\n",
       "      <td>None</td>\n",
       "      <td>4.7</td>\n",
       "      <td>Dual Sim, 3G, 4G, 5G, VoLTE, Wi-Fi, IR Blaster...</td>\n",
       "    </tr>\n",
       "    <tr>\n",
       "      <th>12</th>\n",
       "      <td>Xiaomi Redmi Note 12 Pro (8GB RAM + 256GB)</td>\n",
       "      <td>₹21,650</td>\n",
       "      <td>10%</td>\n",
       "      <td>4.5</td>\n",
       "      <td>Dual Sim, 3G, 4G, 5G, VoLTE, Wi-Fi, IR Blaster...</td>\n",
       "    </tr>\n",
       "    <tr>\n",
       "      <th>13</th>\n",
       "      <td>Xiaomi 12 Pro 5G</td>\n",
       "      <td>₹39,999</td>\n",
       "      <td>4%</td>\n",
       "      <td>4.2</td>\n",
       "      <td>Dual Sim, 3G, 4G, 5G, VoLTE, Wi-Fi, NFC, IR Bl...</td>\n",
       "    </tr>\n",
       "    <tr>\n",
       "      <th>14</th>\n",
       "      <td>Xiaomi 13 Ultra 5G</td>\n",
       "      <td>₹71,499</td>\n",
       "      <td>None</td>\n",
       "      <td>4</td>\n",
       "      <td>Dual Sim, 3G, 4G, 5G, VoLTE, Vo5G, Wi-Fi, NFC,...</td>\n",
       "    </tr>\n",
       "    <tr>\n",
       "      <th>15</th>\n",
       "      <td>Xiaomi Redmi A2 (4GB RAM + 64GB)</td>\n",
       "      <td>₹6,323</td>\n",
       "      <td>8%</td>\n",
       "      <td>4.7</td>\n",
       "      <td>Dual Sim, 3G, 4G, VoLTE, Wi-FiHelio G36, Octa ...</td>\n",
       "    </tr>\n",
       "    <tr>\n",
       "      <th>16</th>\n",
       "      <td>Xiaomi Redmi Note 12 Pro Plus</td>\n",
       "      <td>₹27,999</td>\n",
       "      <td>4%</td>\n",
       "      <td>4.65</td>\n",
       "      <td>Dual Sim, 3G, 4G, 5G, VoLTE, Wi-Fi, IR Blaster...</td>\n",
       "    </tr>\n",
       "    <tr>\n",
       "      <th>17</th>\n",
       "      <td>Xiaomi Redmi Note 12 (8GB RAM + 256GB)</td>\n",
       "      <td>₹19,499</td>\n",
       "      <td>6%</td>\n",
       "      <td>4.2</td>\n",
       "      <td>Dual Sim, 3G, 4G, 5G, VoLTE, Wi-Fi, IR Blaster...</td>\n",
       "    </tr>\n",
       "    <tr>\n",
       "      <th>18</th>\n",
       "      <td>Xiaomi Redmi Note 12 (6GB RAM + 128GB)</td>\n",
       "      <td>₹17,480</td>\n",
       "      <td>7%</td>\n",
       "      <td>4.4</td>\n",
       "      <td>Dual Sim, 3G, 4G, 5G, VoLTE, Wi-Fi, IR Blaster...</td>\n",
       "    </tr>\n",
       "    <tr>\n",
       "      <th>19</th>\n",
       "      <td>Xiaomi Redmi 13 5G</td>\n",
       "      <td>₹12,499</td>\n",
       "      <td>None</td>\n",
       "      <td>4.5</td>\n",
       "      <td>Dual Sim, 3G, 4G, 5G, VoLTE, Wi-Fi, IR Blaster...</td>\n",
       "    </tr>\n",
       "  </tbody>\n",
       "</table>\n",
       "</div>"
      ],
      "text/plain": [
       "                                   Mobile Name    Price Discount Ratings  \\\n",
       "0                           Xiaomi Redmi 12 5G  ₹11,499       7%    4.55   \n",
       "1                Xiaomi Redmi Note 13 Pro Plus  ₹21,990     None    4.35   \n",
       "2         Xiaomi Redmi 12 5G (6GB RAM + 128GB)  ₹12,999       4%    4.75   \n",
       "3         Xiaomi Redmi 12 5G (8GB RAM + 256GB)  ₹14,999       6%     4.6   \n",
       "4              Xiaomi Redmi Note 13 Pro Max 5G  ₹20,499     None       4   \n",
       "5                  Xiaomi Redmi Note 13 Pro 5G  ₹15,990     None     4.1   \n",
       "6                  Xiaomi Redmi Note 12 Pro 5G  ₹20,999     None    4.75   \n",
       "7                           Xiaomi Redmi 12 4G   ₹8,999      10%     4.5   \n",
       "8                      Xiaomi Redmi Note 12 5G  ₹15,998       5%     3.9   \n",
       "9                         Xiaomi Redmi Note 13  ₹12,990     None     4.5   \n",
       "10                            Xiaomi Redmi 12C   ₹6,999      14%     4.7   \n",
       "11                Xiaomi Redmi Note 14 Pro Max  ₹29,990     None     4.7   \n",
       "12  Xiaomi Redmi Note 12 Pro (8GB RAM + 256GB)  ₹21,650      10%     4.5   \n",
       "13                            Xiaomi 12 Pro 5G  ₹39,999       4%     4.2   \n",
       "14                          Xiaomi 13 Ultra 5G  ₹71,499     None       4   \n",
       "15            Xiaomi Redmi A2 (4GB RAM + 64GB)   ₹6,323       8%     4.7   \n",
       "16               Xiaomi Redmi Note 12 Pro Plus  ₹27,999       4%    4.65   \n",
       "17      Xiaomi Redmi Note 12 (8GB RAM + 256GB)  ₹19,499       6%     4.2   \n",
       "18      Xiaomi Redmi Note 12 (6GB RAM + 128GB)  ₹17,480       7%     4.4   \n",
       "19                          Xiaomi Redmi 13 5G  ₹12,499     None     4.5   \n",
       "\n",
       "                                                 Desc  \n",
       "0   Dual Sim, 3G, 4G, 5G, VoLTE, Wi-Fi, IR Blaster...  \n",
       "1   Dual Sim, 3G, 4G, 5G, VoLTE, Wi-Fi, NFC, IR Bl...  \n",
       "2   Dual Sim, 3G, 4G, 5G, VoLTE, Wi-Fi, IR Blaster...  \n",
       "3   Dual Sim, 3G, 4G, 5G, VoLTE, Wi-Fi, IR Blaster...  \n",
       "4   Dual Sim, 3G, 4G, 5G, VoLTE, Wi-Fi, IR Blaster...  \n",
       "5   Dual Sim, 3G, 4G, 5G, VoLTE, Wi-Fi, NFC, IR Bl...  \n",
       "6   Dual Sim, 3G, 4G, 5G, VoLTE, Wi-Fi, IR Blaster...  \n",
       "7   Dual Sim, 3G, 4G, VoLTE, Wi-Fi, IR BlasterHeli...  \n",
       "8   Dual Sim, 3G, 4G, 5G, VoLTE, Wi-Fi, IR Blaster...  \n",
       "9   Dual Sim, 3G, 4G, 5G, VoLTE, Vo5G, Wi-Fi, IR B...  \n",
       "10  Dual Sim, 3G, 4G, VoLTE, Wi-FiHelio  G85, Octa...  \n",
       "11  Dual Sim, 3G, 4G, 5G, VoLTE, Wi-Fi, IR Blaster...  \n",
       "12  Dual Sim, 3G, 4G, 5G, VoLTE, Wi-Fi, IR Blaster...  \n",
       "13  Dual Sim, 3G, 4G, 5G, VoLTE, Wi-Fi, NFC, IR Bl...  \n",
       "14  Dual Sim, 3G, 4G, 5G, VoLTE, Vo5G, Wi-Fi, NFC,...  \n",
       "15  Dual Sim, 3G, 4G, VoLTE, Wi-FiHelio G36, Octa ...  \n",
       "16  Dual Sim, 3G, 4G, 5G, VoLTE, Wi-Fi, IR Blaster...  \n",
       "17  Dual Sim, 3G, 4G, 5G, VoLTE, Wi-Fi, IR Blaster...  \n",
       "18  Dual Sim, 3G, 4G, 5G, VoLTE, Wi-Fi, IR Blaster...  \n",
       "19  Dual Sim, 3G, 4G, 5G, VoLTE, Wi-Fi, IR Blaster...  "
      ]
     },
     "execution_count": 32,
     "metadata": {},
     "output_type": "execute_result"
    }
   ],
   "source": [
    "d={\"Mobile Name\":mobilename, \"Price\":price, \"Discount\": discount, \"Ratings\":rating,\"Desc\":desc}\n",
    "df=pd.DataFrame(d)\n",
    "df"
   ]
  },
  {
   "cell_type": "code",
   "execution_count": 34,
   "id": "619ccac6-a579-43a8-bf99-b7b8df197f6b",
   "metadata": {},
   "outputs": [],
   "source": [
    "df.to_csv(\"Xiomi_mobiles.csv\",index=False)"
   ]
  }
 ],
 "metadata": {
  "kernelspec": {
   "display_name": "Python 3 (ipykernel)",
   "language": "python",
   "name": "python3"
  },
  "language_info": {
   "codemirror_mode": {
    "name": "ipython",
    "version": 3
   },
   "file_extension": ".py",
   "mimetype": "text/x-python",
   "name": "python",
   "nbconvert_exporter": "python",
   "pygments_lexer": "ipython3",
   "version": "3.12.0"
  }
 },
 "nbformat": 4,
 "nbformat_minor": 5
}
