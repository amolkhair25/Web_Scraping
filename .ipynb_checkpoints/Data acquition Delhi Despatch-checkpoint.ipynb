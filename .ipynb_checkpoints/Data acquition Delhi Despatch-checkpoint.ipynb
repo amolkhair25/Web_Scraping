{
 "cells": [
  {
   "cell_type": "code",
   "execution_count": 1,
   "id": "ebccc685-907f-4231-8857-5a487ebe02e6",
   "metadata": {},
   "outputs": [],
   "source": [
    "import requests\n",
    "from bs4 import BeautifulSoup\n",
    "from datetime import datetime, timedelta\n",
    "import pandas as pd"
   ]
  },
  {
   "cell_type": "code",
   "execution_count": null,
   "id": "fccad82f-a35e-4470-a1ca-f7dfee944cbc",
   "metadata": {},
   "outputs": [],
   "source": [
    "def scrap_all(start_dt):\n",
    "    url=f\"https://www.delhisldc.org/Loaddata.aspx?mode={start_dt.strftime(\"%d/%m/%Y\")}\"\n",
    "    #print(url)\n",
    "    page=requests.get(url)\n",
    "    soup=BeautifulSoup(page.content,'html5lib')\n",
    "    data=soup.find_all(id=\"ContentPlaceHolder3_DGGridAv\")\n",
    "    table=data[0].find_all('td')\n",
    "    \n",
    "    head=[h.get_text() for h in table[:7]]\n",
    "    table1=data[0].find_all('tr')\n",
    "    #print(table1)\n",
    "    L=[]\n",
    "    col=table1[7:]\n",
    "    for d in col:\n",
    "        p=[]\n",
    "        for t in d.find_all('td'):\n",
    "            p.append(t.get_text().strip())\n",
    "        L.append(p)\n",
    "    #print(L)\n",
    "    d={k:[] for k in head}\n",
    "    for t in L:\n",
    "        d['TIMESLOT'].append(t[0])\n",
    "        d['DELHI'].append(t[1])\n",
    "        d['BRPL'].append(t[2])\n",
    "        d['BYPL'].append(t[3])\n",
    "        d['NDPL'].append(t[4])\n",
    "        d['NDMC'].append(t[5])\n",
    "        d['MES'].append(t[6])\n",
    "    #print(d)\n",
    "    df=pd.DataFrame(d)\n",
    "    fname = f\"delhi_{start_dt.strftime(\"%d_%m_%Y\")}.csv\"\n",
    "    \n",
    "    df.to_csv(fname, index=False)\n",
    "    return df\n",
    "\n"
   ]
  },
  {
   "cell_type": "code",
   "execution_count": null,
   "id": "bc72ec87-f4a9-4677-a220-e288fd851f56",
   "metadata": {},
   "outputs": [],
   "source": [
    "\n",
    "start_date = \"01/01/2022\"\n",
    "end_date = \"31/12/2022\"\n",
    "start_dt  = datetime.strptime(start_date, \"%d/%m/%Y\")#return object\n",
    "end_dt  = datetime.strptime(end_date, \"%d/%m/%Y\")\n",
    "\n",
    "while(True):\n",
    "    if start_dt > end_dt:\n",
    "        break\n",
    "    df = scrap_all(start_dt)\n",
    "    print(start_dt)\n",
    "    start_dt = start_dt + timedelta(days=1)\n",
    "\n",
    "    \n",
    "    "
   ]
  },
  {
   "cell_type": "code",
   "execution_count": null,
   "id": "9ef63026-e9ba-4d78-88c3-0a1705824b2f",
   "metadata": {},
   "outputs": [],
   "source": [
    "      "
   ]
  }
 ],
 "metadata": {
  "kernelspec": {
   "display_name": "Python 3 (ipykernel)",
   "language": "python",
   "name": "python3"
  },
  "language_info": {
   "codemirror_mode": {
    "name": "ipython",
    "version": 3
   },
   "file_extension": ".py",
   "mimetype": "text/x-python",
   "name": "python",
   "nbconvert_exporter": "python",
   "pygments_lexer": "ipython3",
   "version": "3.12.0"
  }
 },
 "nbformat": 4,
 "nbformat_minor": 5
}
