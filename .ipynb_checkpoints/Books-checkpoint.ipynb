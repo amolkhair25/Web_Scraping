{
 "cells": [
  {
   "cell_type": "code",
   "execution_count": 6,
   "id": "6ed636a0-31b9-4ccd-9d1f-366c02b06a7c",
   "metadata": {},
   "outputs": [],
   "source": [
    "from bs4 import BeautifulSoup\n",
    "import requests\n",
    "import pandas as pd"
   ]
  },
  {
   "cell_type": "code",
   "execution_count": 7,
   "id": "7ce324f6-8dd8-4ec5-8f11-cde827e3f160",
   "metadata": {},
   "outputs": [],
   "source": [
    "url=\"https://www.amazon.in/gp/bestsellers/books/ref=zg_bs_nav_books_0\"\n",
    "headers = {\"User-Agent\":\"Mozilla/5.0 (Macintosh; Intel Mac OS X 10_15_4) AppleWebKit/537.36 (KHTML, like Gecko) Chrome/117.0.5938.150 Safari/537.36\"}\n",
    "page=requests.get(url, headers=headers)\n",
    "soup=BeautifulSoup(page.content,'lxml')\n",
    "books=soup.find_all(id=\"gridItemRoot\")"
   ]
  },
  {
   "cell_type": "code",
   "execution_count": 8,
   "id": "9cfb2583-0409-40a9-8e98-489fed9456f9",
   "metadata": {},
   "outputs": [],
   "source": [
    "book=books[0]"
   ]
  },
  {
   "cell_type": "code",
   "execution_count": 9,
   "id": "0fa575bc-dc52-450f-9465-fe5cd652cd8b",
   "metadata": {},
   "outputs": [
    {
     "data": {
      "text/plain": [
       "'PW Physics Med Easy Notes | Notes, Formulas, Mnemonics, Tips & Tricks for NEET/JEE & Board Exams | MR Sir Physics Handwritten Notes'"
      ]
     },
     "execution_count": 9,
     "metadata": {},
     "output_type": "execute_result"
    }
   ],
   "source": [
    "bn=book.find(class_=\"_cDEzb_p13n-sc-css-line-clamp-1_1Fn1y\").get_text()\n",
    "bn"
   ]
  },
  {
   "cell_type": "code",
   "execution_count": 10,
   "id": "539488c5-92a5-4b39-a19c-900b86fec453",
   "metadata": {},
   "outputs": [
    {
     "data": {
      "text/plain": [
       "'Dr. Manish Raj (MR. Sir)'"
      ]
     },
     "execution_count": 10,
     "metadata": {},
     "output_type": "execute_result"
    }
   ],
   "source": [
    "authors=book.find(class_=\"a-row a-size-small\").get_text()\n",
    "authors"
   ]
  },
  {
   "cell_type": "code",
   "execution_count": 11,
   "id": "56db12ed-9835-40df-b623-0bd5bb79eae4",
   "metadata": {},
   "outputs": [
    {
     "data": {
      "text/plain": [
       "'5'"
      ]
     },
     "execution_count": 11,
     "metadata": {},
     "output_type": "execute_result"
    }
   ],
   "source": [
    "fv=book.find(class_=\"a-icon-row\").get_text()\n",
    "rat=fv[0]\n",
    "rat"
   ]
  },
  {
   "cell_type": "code",
   "execution_count": 12,
   "id": "cef28c75-2809-423a-bdb9-351ea4f85636",
   "metadata": {},
   "outputs": [
    {
     "data": {
      "text/plain": [
       "'₹421.00'"
      ]
     },
     "execution_count": 12,
     "metadata": {},
     "output_type": "execute_result"
    }
   ],
   "source": [
    "price=book.find(class_=\"_cDEzb_p13n-sc-price-animation-wrapper_3PzN2\").get_text()\n",
    "price"
   ]
  },
  {
   "cell_type": "code",
   "execution_count": 15,
   "id": "8171b022-6c55-493f-963c-77335da4276d",
   "metadata": {},
   "outputs": [
    {
     "data": {
      "text/html": [
       "<div>\n",
       "<style scoped>\n",
       "    .dataframe tbody tr th:only-of-type {\n",
       "        vertical-align: middle;\n",
       "    }\n",
       "\n",
       "    .dataframe tbody tr th {\n",
       "        vertical-align: top;\n",
       "    }\n",
       "\n",
       "    .dataframe thead th {\n",
       "        text-align: right;\n",
       "    }\n",
       "</style>\n",
       "<table border=\"1\" class=\"dataframe\">\n",
       "  <thead>\n",
       "    <tr style=\"text-align: right;\">\n",
       "      <th></th>\n",
       "      <th>Book Name</th>\n",
       "      <th>Authors</th>\n",
       "      <th>Ratings</th>\n",
       "      <th>Price</th>\n",
       "    </tr>\n",
       "  </thead>\n",
       "  <tbody>\n",
       "    <tr>\n",
       "      <th>0</th>\n",
       "      <td>PW Physics Med Easy Notes | Notes, Formulas, M...</td>\n",
       "      <td>Dr. Manish Raj (MR. Sir)</td>\n",
       "      <td>5</td>\n",
       "      <td>₹421.00</td>\n",
       "    </tr>\n",
       "    <tr>\n",
       "      <th>1</th>\n",
       "      <td>Don't Believe Everything You Think (English)</td>\n",
       "      <td>Joseph Nguyen</td>\n",
       "      <td>5</td>\n",
       "      <td>₹174.00</td>\n",
       "    </tr>\n",
       "    <tr>\n",
       "      <th>2</th>\n",
       "      <td>The Psychology Of Money</td>\n",
       "      <td>Morgan Housel</td>\n",
       "      <td>5</td>\n",
       "      <td>₹216.00</td>\n",
       "    </tr>\n",
       "    <tr>\n",
       "      <th>3</th>\n",
       "      <td>Atomic Habits</td>\n",
       "      <td>James Clear</td>\n",
       "      <td>5</td>\n",
       "      <td>₹413.00</td>\n",
       "    </tr>\n",
       "    <tr>\n",
       "      <th>4</th>\n",
       "      <td>Ikigai</td>\n",
       "      <td>Francesc Miralles</td>\n",
       "      <td>5</td>\n",
       "      <td>₹298.98</td>\n",
       "    </tr>\n",
       "    <tr>\n",
       "      <th>...</th>\n",
       "      <td>...</td>\n",
       "      <td>...</td>\n",
       "      <td>...</td>\n",
       "      <td>...</td>\n",
       "    </tr>\n",
       "    <tr>\n",
       "      <th>1405</th>\n",
       "      <td>World's Greatest Pack for Personal Growth and ...</td>\n",
       "      <td>Dale Carnegie</td>\n",
       "      <td>5</td>\n",
       "      <td>₹325.00</td>\n",
       "    </tr>\n",
       "    <tr>\n",
       "      <th>1406</th>\n",
       "      <td>You Can</td>\n",
       "      <td>George Matthew Adams</td>\n",
       "      <td>5</td>\n",
       "      <td>₹98.00</td>\n",
       "    </tr>\n",
       "    <tr>\n",
       "      <th>1407</th>\n",
       "      <td>Little Colouring Books for Kids (Set of 10 Boo...</td>\n",
       "      <td>Maple Press</td>\n",
       "      <td>5</td>\n",
       "      <td>₹177.00</td>\n",
       "    </tr>\n",
       "    <tr>\n",
       "      <th>1408</th>\n",
       "      <td>TUESDAYS WITH MORRIE (EXPORT) (A FORMAT)</td>\n",
       "      <td>Mitch Albom</td>\n",
       "      <td>5</td>\n",
       "      <td>₹191.00</td>\n",
       "    </tr>\n",
       "    <tr>\n",
       "      <th>1409</th>\n",
       "      <td>The Hidden Hindu: Science-Fiction meets Indian...</td>\n",
       "      <td>Akshat Gupta</td>\n",
       "      <td>5</td>\n",
       "      <td>₹158.00</td>\n",
       "    </tr>\n",
       "  </tbody>\n",
       "</table>\n",
       "<p>1410 rows × 4 columns</p>\n",
       "</div>"
      ],
      "text/plain": [
       "                                              Book Name  \\\n",
       "0     PW Physics Med Easy Notes | Notes, Formulas, M...   \n",
       "1          Don't Believe Everything You Think (English)   \n",
       "2                               The Psychology Of Money   \n",
       "3                                         Atomic Habits   \n",
       "4                                                Ikigai   \n",
       "...                                                 ...   \n",
       "1405  World's Greatest Pack for Personal Growth and ...   \n",
       "1406                                            You Can   \n",
       "1407  Little Colouring Books for Kids (Set of 10 Boo...   \n",
       "1408           TUESDAYS WITH MORRIE (EXPORT) (A FORMAT)   \n",
       "1409  The Hidden Hindu: Science-Fiction meets Indian...   \n",
       "\n",
       "                       Authors Ratings    Price  \n",
       "0     Dr. Manish Raj (MR. Sir)       5  ₹421.00  \n",
       "1                Joseph Nguyen       5  ₹174.00  \n",
       "2                Morgan Housel       5  ₹216.00  \n",
       "3                  James Clear       5  ₹413.00  \n",
       "4            Francesc Miralles       5  ₹298.98  \n",
       "...                        ...     ...      ...  \n",
       "1405             Dale Carnegie       5  ₹325.00  \n",
       "1406      George Matthew Adams       5   ₹98.00  \n",
       "1407               Maple Press       5  ₹177.00  \n",
       "1408               Mitch Albom       5  ₹191.00  \n",
       "1409              Akshat Gupta       5  ₹158.00  \n",
       "\n",
       "[1410 rows x 4 columns]"
      ]
     },
     "execution_count": 15,
     "metadata": {},
     "output_type": "execute_result"
    }
   ],
   "source": [
    "names,authors,ratings,price=[],[],[],[]\n",
    "for i in range(1,50):\n",
    "    url=f\"https://www.amazon.in/gp/bestsellers/books/ref=zg_bs_nav_books_{i}\"\n",
    "    headers = {\"User-Agent\":\"Mozilla/5.0 (Macintosh; Intel Mac OS X 10_15_4) AppleWebKit/537.36 (KHTML, like Gecko) Chrome/117.0.5938.150 Safari/537.36\"}\n",
    "    page=requests.get(url, headers=headers)\n",
    "    soup=BeautifulSoup(page.content,'lxml')\n",
    "    books=soup.find_all(id=\"gridItemRoot\")\n",
    "\n",
    "    for f in books:\n",
    "        names.append(f.find(class_=\"_cDEzb_p13n-sc-css-line-clamp-1_1Fn1y\").get_text())\n",
    "        authors.append(f.find(class_=\"a-row a-size-small\").get_text())\n",
    "        fv=book.find(class_=\"a-icon-row\").get_text()\n",
    "        rat=fv[0]\n",
    "        ratings.append(rat)\n",
    "        price.append(f.find(class_=\"_cDEzb_p13n-sc-price-animation-wrapper_3PzN2\").get_text())\n",
    "\n",
    "d={\"Book Name\":names, \"Authors\":authors, \"Ratings\": ratings, \"Price\":price}\n",
    "df=pd.DataFrame(d)\n",
    "df"
   ]
  },
  {
   "cell_type": "code",
   "execution_count": 14,
   "id": "b7267597-0658-456d-be2f-fbb6ced9a447",
   "metadata": {},
   "outputs": [],
   "source": [
    "f=df.to_csv(\"Books.csv\", index=False)\n",
    "f"
   ]
  },
  {
   "cell_type": "code",
   "execution_count": null,
   "id": "9c7a950c-a0ee-48c5-8a32-38b04bd7b813",
   "metadata": {},
   "outputs": [],
   "source": []
  }
 ],
 "metadata": {
  "kernelspec": {
   "display_name": "Python 3 (ipykernel)",
   "language": "python",
   "name": "python3"
  },
  "language_info": {
   "codemirror_mode": {
    "name": "ipython",
    "version": 3
   },
   "file_extension": ".py",
   "mimetype": "text/x-python",
   "name": "python",
   "nbconvert_exporter": "python",
   "pygments_lexer": "ipython3",
   "version": "3.12.0"
  }
 },
 "nbformat": 4,
 "nbformat_minor": 5
}
