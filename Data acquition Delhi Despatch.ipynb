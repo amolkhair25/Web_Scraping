{
 "cells": [
  {
   "cell_type": "code",
   "execution_count": 1,
   "id": "ebccc685-907f-4231-8857-5a487ebe02e6",
   "metadata": {},
   "outputs": [],
   "source": [
    "import requests\n",
    "from bs4 import BeautifulSoup\n",
    "from datetime import datetime, timedelta\n",
    "import pandas as pd"
   ]
  },
  {
   "cell_type": "code",
   "execution_count": 2,
   "id": "fccad82f-a35e-4470-a1ca-f7dfee944cbc",
   "metadata": {},
   "outputs": [],
   "source": [
    "def scrap_all(start_dt):\n",
    "    url=f\"https://www.delhisldc.org/Loaddata.aspx?mode={start_dt.strftime(\"%d/%m/%Y\")}\"\n",
    "    print(url)\n",
    "    page=requests.get(url)\n",
    "    soup=BeautifulSoup(page.content,'html5lib')\n",
    "    data=soup.find_all(id=\"ContentPlaceHolder3_DGGridAv\")\n",
    "    table=data[0].find_all('td')\n",
    "    \n",
    "    head=[h.get_text() for h in table[:7]]\n",
    "    table1=data[0].find_all('tr')\n",
    "    #print(table1)\n",
    "    L=[]\n",
    "    col=table1[7:]\n",
    "    for d in col:\n",
    "        p=[]\n",
    "        for t in d.find_all('td'):\n",
    "            p.append(t.get_text().strip())\n",
    "        L.append(p)\n",
    "    #print(L)\n",
    "    d={k:[] for k in head}\n",
    "    for t in L:\n",
    "        d['TIMESLOT'].append(t[0])\n",
    "        d['DELHI'].append(t[1])\n",
    "        d['BRPL'].append(t[2])\n",
    "        d['BYPL'].append(t[3])\n",
    "        d['NDPL'].append(t[4])\n",
    "        d['NDMC'].append(t[5])\n",
    "        d['MES'].append(t[6])\n",
    "    #print(d)\n",
    "    df=pd.DataFrame(d)\n",
    "    fname = f\"delhi_{start_dt.strftime(\"%d_%m_%Y\")}.csv\"\n",
    "    \n",
    "    df.to_csv(fname, index=False)\n",
    "    return df\n",
    "\n"
   ]
  },
  {
   "cell_type": "code",
   "execution_count": 3,
   "id": "bc72ec87-f4a9-4677-a220-e288fd851f56",
   "metadata": {
    "scrolled": true
   },
   "outputs": [
    {
     "name": "stdout",
     "output_type": "stream",
     "text": [
      "https://www.delhisldc.org/Loaddata.aspx?mode=01/01/2022\n",
      "https://www.delhisldc.org/Loaddata.aspx?mode=02/01/2022\n",
      "https://www.delhisldc.org/Loaddata.aspx?mode=03/01/2022\n",
      "https://www.delhisldc.org/Loaddata.aspx?mode=04/01/2022\n",
      "https://www.delhisldc.org/Loaddata.aspx?mode=05/01/2022\n",
      "https://www.delhisldc.org/Loaddata.aspx?mode=06/01/2022\n",
      "https://www.delhisldc.org/Loaddata.aspx?mode=07/01/2022\n",
      "https://www.delhisldc.org/Loaddata.aspx?mode=08/01/2022\n",
      "https://www.delhisldc.org/Loaddata.aspx?mode=09/01/2022\n",
      "https://www.delhisldc.org/Loaddata.aspx?mode=10/01/2022\n",
      "https://www.delhisldc.org/Loaddata.aspx?mode=11/01/2022\n",
      "https://www.delhisldc.org/Loaddata.aspx?mode=12/01/2022\n",
      "https://www.delhisldc.org/Loaddata.aspx?mode=13/01/2022\n",
      "https://www.delhisldc.org/Loaddata.aspx?mode=14/01/2022\n",
      "https://www.delhisldc.org/Loaddata.aspx?mode=15/01/2022\n",
      "https://www.delhisldc.org/Loaddata.aspx?mode=16/01/2022\n",
      "https://www.delhisldc.org/Loaddata.aspx?mode=17/01/2022\n",
      "https://www.delhisldc.org/Loaddata.aspx?mode=18/01/2022\n",
      "https://www.delhisldc.org/Loaddata.aspx?mode=19/01/2022\n",
      "https://www.delhisldc.org/Loaddata.aspx?mode=20/01/2022\n",
      "https://www.delhisldc.org/Loaddata.aspx?mode=21/01/2022\n",
      "https://www.delhisldc.org/Loaddata.aspx?mode=22/01/2022\n",
      "https://www.delhisldc.org/Loaddata.aspx?mode=23/01/2022\n"
     ]
    },
    {
     "ename": "KeyboardInterrupt",
     "evalue": "",
     "output_type": "error",
     "traceback": [
      "\u001b[1;31m---------------------------------------------------------------------------\u001b[0m",
      "\u001b[1;31mKeyboardInterrupt\u001b[0m                         Traceback (most recent call last)",
      "Cell \u001b[1;32mIn[3], line 9\u001b[0m\n\u001b[0;32m      7\u001b[0m \u001b[38;5;28;01mif\u001b[39;00m start_dt \u001b[38;5;241m>\u001b[39m end_dt:\n\u001b[0;32m      8\u001b[0m     \u001b[38;5;28;01mbreak\u001b[39;00m\n\u001b[1;32m----> 9\u001b[0m df \u001b[38;5;241m=\u001b[39m \u001b[43mscrap_all\u001b[49m\u001b[43m(\u001b[49m\u001b[43mstart_dt\u001b[49m\u001b[43m)\u001b[49m\n\u001b[0;32m     10\u001b[0m \u001b[38;5;66;03m#print(start_dt)\u001b[39;00m\n\u001b[0;32m     11\u001b[0m start_dt \u001b[38;5;241m=\u001b[39m start_dt \u001b[38;5;241m+\u001b[39m timedelta(days\u001b[38;5;241m=\u001b[39m\u001b[38;5;241m1\u001b[39m)\n",
      "Cell \u001b[1;32mIn[2], line 5\u001b[0m, in \u001b[0;36mscrap_all\u001b[1;34m(start_dt)\u001b[0m\n\u001b[0;32m      3\u001b[0m \u001b[38;5;28mprint\u001b[39m(url)\n\u001b[0;32m      4\u001b[0m page\u001b[38;5;241m=\u001b[39mrequests\u001b[38;5;241m.\u001b[39mget(url)\n\u001b[1;32m----> 5\u001b[0m soup\u001b[38;5;241m=\u001b[39m\u001b[43mBeautifulSoup\u001b[49m\u001b[43m(\u001b[49m\u001b[43mpage\u001b[49m\u001b[38;5;241;43m.\u001b[39;49m\u001b[43mcontent\u001b[49m\u001b[43m,\u001b[49m\u001b[38;5;124;43m'\u001b[39;49m\u001b[38;5;124;43mhtml5lib\u001b[39;49m\u001b[38;5;124;43m'\u001b[39;49m\u001b[43m)\u001b[49m\n\u001b[0;32m      6\u001b[0m data\u001b[38;5;241m=\u001b[39msoup\u001b[38;5;241m.\u001b[39mfind_all(\u001b[38;5;28mid\u001b[39m\u001b[38;5;241m=\u001b[39m\u001b[38;5;124m\"\u001b[39m\u001b[38;5;124mContentPlaceHolder3_DGGridAv\u001b[39m\u001b[38;5;124m\"\u001b[39m)\n\u001b[0;32m      7\u001b[0m table\u001b[38;5;241m=\u001b[39mdata[\u001b[38;5;241m0\u001b[39m]\u001b[38;5;241m.\u001b[39mfind_all(\u001b[38;5;124m'\u001b[39m\u001b[38;5;124mtd\u001b[39m\u001b[38;5;124m'\u001b[39m)\n",
      "File \u001b[1;32m~\\AppData\\Local\\Programs\\Python\\Python312\\Lib\\site-packages\\bs4\\__init__.py:335\u001b[0m, in \u001b[0;36mBeautifulSoup.__init__\u001b[1;34m(self, markup, features, builder, parse_only, from_encoding, exclude_encodings, element_classes, **kwargs)\u001b[0m\n\u001b[0;32m    333\u001b[0m \u001b[38;5;28mself\u001b[39m\u001b[38;5;241m.\u001b[39mbuilder\u001b[38;5;241m.\u001b[39minitialize_soup(\u001b[38;5;28mself\u001b[39m)\n\u001b[0;32m    334\u001b[0m \u001b[38;5;28;01mtry\u001b[39;00m:\n\u001b[1;32m--> 335\u001b[0m     \u001b[38;5;28;43mself\u001b[39;49m\u001b[38;5;241;43m.\u001b[39;49m\u001b[43m_feed\u001b[49m\u001b[43m(\u001b[49m\u001b[43m)\u001b[49m\n\u001b[0;32m    336\u001b[0m     success \u001b[38;5;241m=\u001b[39m \u001b[38;5;28;01mTrue\u001b[39;00m\n\u001b[0;32m    337\u001b[0m     \u001b[38;5;28;01mbreak\u001b[39;00m\n",
      "File \u001b[1;32m~\\AppData\\Local\\Programs\\Python\\Python312\\Lib\\site-packages\\bs4\\__init__.py:478\u001b[0m, in \u001b[0;36mBeautifulSoup._feed\u001b[1;34m(self)\u001b[0m\n\u001b[0;32m    475\u001b[0m \u001b[38;5;66;03m# Convert the document to Unicode.\u001b[39;00m\n\u001b[0;32m    476\u001b[0m \u001b[38;5;28mself\u001b[39m\u001b[38;5;241m.\u001b[39mbuilder\u001b[38;5;241m.\u001b[39mreset()\n\u001b[1;32m--> 478\u001b[0m \u001b[38;5;28;43mself\u001b[39;49m\u001b[38;5;241;43m.\u001b[39;49m\u001b[43mbuilder\u001b[49m\u001b[38;5;241;43m.\u001b[39;49m\u001b[43mfeed\u001b[49m\u001b[43m(\u001b[49m\u001b[38;5;28;43mself\u001b[39;49m\u001b[38;5;241;43m.\u001b[39;49m\u001b[43mmarkup\u001b[49m\u001b[43m)\u001b[49m\n\u001b[0;32m    479\u001b[0m \u001b[38;5;66;03m# Close out any unfinished strings and close all the open tags.\u001b[39;00m\n\u001b[0;32m    480\u001b[0m \u001b[38;5;28mself\u001b[39m\u001b[38;5;241m.\u001b[39mendData()\n",
      "File \u001b[1;32m~\\AppData\\Local\\Programs\\Python\\Python312\\Lib\\site-packages\\bs4\\builder\\_html5lib.py:99\u001b[0m, in \u001b[0;36mHTML5TreeBuilder.feed\u001b[1;34m(self, markup)\u001b[0m\n\u001b[0;32m     97\u001b[0m     \u001b[38;5;28;01melse\u001b[39;00m:\n\u001b[0;32m     98\u001b[0m         extra_kwargs[\u001b[38;5;124m'\u001b[39m\u001b[38;5;124mencoding\u001b[39m\u001b[38;5;124m'\u001b[39m] \u001b[38;5;241m=\u001b[39m \u001b[38;5;28mself\u001b[39m\u001b[38;5;241m.\u001b[39muser_specified_encoding\n\u001b[1;32m---> 99\u001b[0m doc \u001b[38;5;241m=\u001b[39m \u001b[43mparser\u001b[49m\u001b[38;5;241;43m.\u001b[39;49m\u001b[43mparse\u001b[49m\u001b[43m(\u001b[49m\u001b[43mmarkup\u001b[49m\u001b[43m,\u001b[49m\u001b[43m \u001b[49m\u001b[38;5;241;43m*\u001b[39;49m\u001b[38;5;241;43m*\u001b[39;49m\u001b[43mextra_kwargs\u001b[49m\u001b[43m)\u001b[49m\n\u001b[0;32m    101\u001b[0m \u001b[38;5;66;03m# Set the character encoding detected by the tokenizer.\u001b[39;00m\n\u001b[0;32m    102\u001b[0m \u001b[38;5;28;01mif\u001b[39;00m \u001b[38;5;28misinstance\u001b[39m(markup, \u001b[38;5;28mstr\u001b[39m):\n\u001b[0;32m    103\u001b[0m     \u001b[38;5;66;03m# We need to special-case this because html5lib sets\u001b[39;00m\n\u001b[0;32m    104\u001b[0m     \u001b[38;5;66;03m# charEncoding to UTF-8 if it gets Unicode input.\u001b[39;00m\n",
      "File \u001b[1;32m~\\AppData\\Local\\Programs\\Python\\Python312\\Lib\\site-packages\\html5lib\\html5parser.py:284\u001b[0m, in \u001b[0;36mHTMLParser.parse\u001b[1;34m(self, stream, *args, **kwargs)\u001b[0m\n\u001b[0;32m    262\u001b[0m \u001b[38;5;28;01mdef\u001b[39;00m \u001b[38;5;21mparse\u001b[39m(\u001b[38;5;28mself\u001b[39m, stream, \u001b[38;5;241m*\u001b[39margs, \u001b[38;5;241m*\u001b[39m\u001b[38;5;241m*\u001b[39mkwargs):\n\u001b[0;32m    263\u001b[0m \u001b[38;5;250m    \u001b[39m\u001b[38;5;124;03m\"\"\"Parse a HTML document into a well-formed tree\u001b[39;00m\n\u001b[0;32m    264\u001b[0m \n\u001b[0;32m    265\u001b[0m \u001b[38;5;124;03m    :arg stream: a file-like object or string containing the HTML to be parsed\u001b[39;00m\n\u001b[1;32m   (...)\u001b[0m\n\u001b[0;32m    282\u001b[0m \n\u001b[0;32m    283\u001b[0m \u001b[38;5;124;03m    \"\"\"\u001b[39;00m\n\u001b[1;32m--> 284\u001b[0m     \u001b[38;5;28;43mself\u001b[39;49m\u001b[38;5;241;43m.\u001b[39;49m\u001b[43m_parse\u001b[49m\u001b[43m(\u001b[49m\u001b[43mstream\u001b[49m\u001b[43m,\u001b[49m\u001b[43m \u001b[49m\u001b[38;5;28;43;01mFalse\u001b[39;49;00m\u001b[43m,\u001b[49m\u001b[43m \u001b[49m\u001b[38;5;28;43;01mNone\u001b[39;49;00m\u001b[43m,\u001b[49m\u001b[43m \u001b[49m\u001b[38;5;241;43m*\u001b[39;49m\u001b[43margs\u001b[49m\u001b[43m,\u001b[49m\u001b[43m \u001b[49m\u001b[38;5;241;43m*\u001b[39;49m\u001b[38;5;241;43m*\u001b[39;49m\u001b[43mkwargs\u001b[49m\u001b[43m)\u001b[49m\n\u001b[0;32m    285\u001b[0m     \u001b[38;5;28;01mreturn\u001b[39;00m \u001b[38;5;28mself\u001b[39m\u001b[38;5;241m.\u001b[39mtree\u001b[38;5;241m.\u001b[39mgetDocument()\n",
      "File \u001b[1;32m~\\AppData\\Local\\Programs\\Python\\Python312\\Lib\\site-packages\\html5lib\\html5parser.py:133\u001b[0m, in \u001b[0;36mHTMLParser._parse\u001b[1;34m(self, stream, innerHTML, container, scripting, **kwargs)\u001b[0m\n\u001b[0;32m    130\u001b[0m \u001b[38;5;28mself\u001b[39m\u001b[38;5;241m.\u001b[39mreset()\n\u001b[0;32m    132\u001b[0m \u001b[38;5;28;01mtry\u001b[39;00m:\n\u001b[1;32m--> 133\u001b[0m     \u001b[38;5;28;43mself\u001b[39;49m\u001b[38;5;241;43m.\u001b[39;49m\u001b[43mmainLoop\u001b[49m\u001b[43m(\u001b[49m\u001b[43m)\u001b[49m\n\u001b[0;32m    134\u001b[0m \u001b[38;5;28;01mexcept\u001b[39;00m _ReparseException:\n\u001b[0;32m    135\u001b[0m     \u001b[38;5;28mself\u001b[39m\u001b[38;5;241m.\u001b[39mreset()\n",
      "File \u001b[1;32m~\\AppData\\Local\\Programs\\Python\\Python312\\Lib\\site-packages\\html5lib\\html5parser.py:240\u001b[0m, in \u001b[0;36mHTMLParser.mainLoop\u001b[1;34m(self)\u001b[0m\n\u001b[0;32m    238\u001b[0m     new_token \u001b[38;5;241m=\u001b[39m phase\u001b[38;5;241m.\u001b[39mprocessSpaceCharacters(new_token)\n\u001b[0;32m    239\u001b[0m \u001b[38;5;28;01melif\u001b[39;00m \u001b[38;5;28mtype\u001b[39m \u001b[38;5;241m==\u001b[39m StartTagToken:\n\u001b[1;32m--> 240\u001b[0m     new_token \u001b[38;5;241m=\u001b[39m \u001b[43mphase\u001b[49m\u001b[38;5;241;43m.\u001b[39;49m\u001b[43mprocessStartTag\u001b[49m\u001b[43m(\u001b[49m\u001b[43mnew_token\u001b[49m\u001b[43m)\u001b[49m\n\u001b[0;32m    241\u001b[0m \u001b[38;5;28;01melif\u001b[39;00m \u001b[38;5;28mtype\u001b[39m \u001b[38;5;241m==\u001b[39m EndTagToken:\n\u001b[0;32m    242\u001b[0m     new_token \u001b[38;5;241m=\u001b[39m phase\u001b[38;5;241m.\u001b[39mprocessEndTag(new_token)\n",
      "File \u001b[1;32m~\\AppData\\Local\\Programs\\Python\\Python312\\Lib\\site-packages\\html5lib\\html5parser.py:469\u001b[0m, in \u001b[0;36mgetPhases.<locals>.Phase.processStartTag\u001b[1;34m(self, token)\u001b[0m\n\u001b[0;32m    466\u001b[0m     \u001b[38;5;28;01mwhile\u001b[39;00m \u001b[38;5;28mlen\u001b[39m(\u001b[38;5;28mself\u001b[39m\u001b[38;5;241m.\u001b[39m__startTagCache) \u001b[38;5;241m>\u001b[39m \u001b[38;5;28mlen\u001b[39m(\u001b[38;5;28mself\u001b[39m\u001b[38;5;241m.\u001b[39mstartTagHandler) \u001b[38;5;241m*\u001b[39m \u001b[38;5;241m1.1\u001b[39m:\n\u001b[0;32m    467\u001b[0m         \u001b[38;5;66;03m# this makes the eviction policy random on Py < 3.7 and FIFO >= 3.7\u001b[39;00m\n\u001b[0;32m    468\u001b[0m         \u001b[38;5;28mself\u001b[39m\u001b[38;5;241m.\u001b[39m__startTagCache\u001b[38;5;241m.\u001b[39mpop(\u001b[38;5;28mnext\u001b[39m(\u001b[38;5;28miter\u001b[39m(\u001b[38;5;28mself\u001b[39m\u001b[38;5;241m.\u001b[39m__startTagCache)))\n\u001b[1;32m--> 469\u001b[0m \u001b[38;5;28;01mreturn\u001b[39;00m \u001b[43mfunc\u001b[49m\u001b[43m(\u001b[49m\u001b[43mtoken\u001b[49m\u001b[43m)\u001b[49m\n",
      "File \u001b[1;32m~\\AppData\\Local\\Programs\\Python\\Python312\\Lib\\site-packages\\html5lib\\html5parser.py:2148\u001b[0m, in \u001b[0;36mgetPhases.<locals>.InRowPhase.startTagTableCell\u001b[1;34m(self, token)\u001b[0m\n\u001b[0;32m   2146\u001b[0m \u001b[38;5;28;01mdef\u001b[39;00m \u001b[38;5;21mstartTagTableCell\u001b[39m(\u001b[38;5;28mself\u001b[39m, token):\n\u001b[0;32m   2147\u001b[0m     \u001b[38;5;28mself\u001b[39m\u001b[38;5;241m.\u001b[39mclearStackToTableRowContext()\n\u001b[1;32m-> 2148\u001b[0m     \u001b[38;5;28;43mself\u001b[39;49m\u001b[38;5;241;43m.\u001b[39;49m\u001b[43mtree\u001b[49m\u001b[38;5;241;43m.\u001b[39;49m\u001b[43minsertElement\u001b[49m\u001b[43m(\u001b[49m\u001b[43mtoken\u001b[49m\u001b[43m)\u001b[49m\n\u001b[0;32m   2149\u001b[0m     \u001b[38;5;28mself\u001b[39m\u001b[38;5;241m.\u001b[39mparser\u001b[38;5;241m.\u001b[39mphase \u001b[38;5;241m=\u001b[39m \u001b[38;5;28mself\u001b[39m\u001b[38;5;241m.\u001b[39mparser\u001b[38;5;241m.\u001b[39mphases[\u001b[38;5;124m\"\u001b[39m\u001b[38;5;124minCell\u001b[39m\u001b[38;5;124m\"\u001b[39m]\n\u001b[0;32m   2150\u001b[0m     \u001b[38;5;28mself\u001b[39m\u001b[38;5;241m.\u001b[39mtree\u001b[38;5;241m.\u001b[39mactiveFormattingElements\u001b[38;5;241m.\u001b[39mappend(Marker)\n",
      "File \u001b[1;32m~\\AppData\\Local\\Programs\\Python\\Python312\\Lib\\site-packages\\html5lib\\treebuilders\\base.py:329\u001b[0m, in \u001b[0;36mTreeBuilder.insertElementNormal\u001b[1;34m(self, token)\u001b[0m\n\u001b[0;32m    327\u001b[0m element \u001b[38;5;241m=\u001b[39m \u001b[38;5;28mself\u001b[39m\u001b[38;5;241m.\u001b[39melementClass(name, namespace)\n\u001b[0;32m    328\u001b[0m element\u001b[38;5;241m.\u001b[39mattributes \u001b[38;5;241m=\u001b[39m token[\u001b[38;5;124m\"\u001b[39m\u001b[38;5;124mdata\u001b[39m\u001b[38;5;124m\"\u001b[39m]\n\u001b[1;32m--> 329\u001b[0m \u001b[38;5;28;43mself\u001b[39;49m\u001b[38;5;241;43m.\u001b[39;49m\u001b[43mopenElements\u001b[49m\u001b[43m[\u001b[49m\u001b[38;5;241;43m-\u001b[39;49m\u001b[38;5;241;43m1\u001b[39;49m\u001b[43m]\u001b[49m\u001b[38;5;241;43m.\u001b[39;49m\u001b[43mappendChild\u001b[49m\u001b[43m(\u001b[49m\u001b[43melement\u001b[49m\u001b[43m)\u001b[49m\n\u001b[0;32m    330\u001b[0m \u001b[38;5;28mself\u001b[39m\u001b[38;5;241m.\u001b[39mopenElements\u001b[38;5;241m.\u001b[39mappend(element)\n\u001b[0;32m    331\u001b[0m \u001b[38;5;28;01mreturn\u001b[39;00m element\n",
      "File \u001b[1;32m~\\AppData\\Local\\Programs\\Python\\Python312\\Lib\\site-packages\\bs4\\builder\\_html5lib.py:335\u001b[0m, in \u001b[0;36mElement.appendChild\u001b[1;34m(self, node)\u001b[0m\n\u001b[0;32m    332\u001b[0m \u001b[38;5;28;01melse\u001b[39;00m:\n\u001b[0;32m    333\u001b[0m     most_recent_element \u001b[38;5;241m=\u001b[39m \u001b[38;5;28mself\u001b[39m\u001b[38;5;241m.\u001b[39melement\n\u001b[1;32m--> 335\u001b[0m \u001b[38;5;28;43mself\u001b[39;49m\u001b[38;5;241;43m.\u001b[39;49m\u001b[43msoup\u001b[49m\u001b[38;5;241;43m.\u001b[39;49m\u001b[43mobject_was_parsed\u001b[49m\u001b[43m(\u001b[49m\n\u001b[0;32m    336\u001b[0m \u001b[43m    \u001b[49m\u001b[43mchild\u001b[49m\u001b[43m,\u001b[49m\u001b[43m \u001b[49m\u001b[43mparent\u001b[49m\u001b[38;5;241;43m=\u001b[39;49m\u001b[38;5;28;43mself\u001b[39;49m\u001b[38;5;241;43m.\u001b[39;49m\u001b[43melement\u001b[49m\u001b[43m,\u001b[49m\n\u001b[0;32m    337\u001b[0m \u001b[43m    \u001b[49m\u001b[43mmost_recent_element\u001b[49m\u001b[38;5;241;43m=\u001b[39;49m\u001b[43mmost_recent_element\u001b[49m\u001b[43m)\u001b[49m\n",
      "File \u001b[1;32m~\\AppData\\Local\\Programs\\Python\\Python312\\Lib\\site-packages\\bs4\\__init__.py:646\u001b[0m, in \u001b[0;36mBeautifulSoup.object_was_parsed\u001b[1;34m(self, o, parent, most_recent_element)\u001b[0m\n\u001b[0;32m    644\u001b[0m \u001b[38;5;66;03m# Check if we are inserting into an already parsed node.\u001b[39;00m\n\u001b[0;32m    645\u001b[0m \u001b[38;5;28;01mif\u001b[39;00m fix:\n\u001b[1;32m--> 646\u001b[0m     \u001b[38;5;28;43mself\u001b[39;49m\u001b[38;5;241;43m.\u001b[39;49m\u001b[43m_linkage_fixer\u001b[49m\u001b[43m(\u001b[49m\u001b[43mparent\u001b[49m\u001b[43m)\u001b[49m\n",
      "File \u001b[1;32m~\\AppData\\Local\\Programs\\Python\\Python312\\Lib\\site-packages\\bs4\\__init__.py:679\u001b[0m, in \u001b[0;36mBeautifulSoup._linkage_fixer\u001b[1;34m(self, el)\u001b[0m\n\u001b[0;32m    677\u001b[0m descendant\u001b[38;5;241m.\u001b[39mnext_sibling \u001b[38;5;241m=\u001b[39m \u001b[38;5;28;01mNone\u001b[39;00m\n\u001b[0;32m    678\u001b[0m target \u001b[38;5;241m=\u001b[39m el\n\u001b[1;32m--> 679\u001b[0m \u001b[38;5;28;01mwhile\u001b[39;00m \u001b[38;5;28;01mTrue\u001b[39;00m:\n\u001b[0;32m    680\u001b[0m     \u001b[38;5;28;01mif\u001b[39;00m target \u001b[38;5;129;01mis\u001b[39;00m \u001b[38;5;28;01mNone\u001b[39;00m:\n\u001b[0;32m    681\u001b[0m         \u001b[38;5;28;01mbreak\u001b[39;00m\n",
      "\u001b[1;31mKeyboardInterrupt\u001b[0m: "
     ]
    }
   ],
   "source": [
    "\n",
    "start_date = \"01/01/2022\"\n",
    "end_date = \"31/12/2022\"\n",
    "start_dt  = datetime.strptime(start_date, \"%d/%m/%Y\")#return object\n",
    "end_dt  = datetime.strptime(end_date, \"%d/%m/%Y\")\n",
    "\n",
    "while(True):\n",
    "    if start_dt > end_dt:\n",
    "        break\n",
    "    df = scrap_all(start_dt)\n",
    "    #print(start_dt)\n",
    "    start_dt = start_dt + timedelta(days=1)\n",
    "\n",
    "    \n",
    "    "
   ]
  },
  {
   "cell_type": "code",
   "execution_count": null,
   "id": "9ef63026-e9ba-4d78-88c3-0a1705824b2f",
   "metadata": {},
   "outputs": [],
   "source": [
    "      "
   ]
  }
 ],
 "metadata": {
  "kernelspec": {
   "display_name": "Python 3 (ipykernel)",
   "language": "python",
   "name": "python3"
  },
  "language_info": {
   "codemirror_mode": {
    "name": "ipython",
    "version": 3
   },
   "file_extension": ".py",
   "mimetype": "text/x-python",
   "name": "python",
   "nbconvert_exporter": "python",
   "pygments_lexer": "ipython3",
   "version": "3.12.0"
  }
 },
 "nbformat": 4,
 "nbformat_minor": 5
}
